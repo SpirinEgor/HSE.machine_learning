{
  "nbformat": 4,
  "nbformat_minor": 0,
  "metadata": {
    "colab": {
      "name": "hw05_task.ipynb",
      "provenance": [],
      "collapsed_sections": []
    },
    "kernelspec": {
      "display_name": "Python 3",
      "language": "python",
      "name": "python3"
    },
    "language_info": {
      "codemirror_mode": {
        "name": "ipython",
        "version": 3
      },
      "file_extension": ".py",
      "mimetype": "text/x-python",
      "name": "python",
      "nbconvert_exporter": "python",
      "pygments_lexer": "ipython3",
      "version": "3.8.5"
    },
    "accelerator": "GPU"
  },
  "cells": [
    {
      "cell_type": "markdown",
      "metadata": {
        "id": "9Qp0H_zUQuu_"
      },
      "source": [
        "# Нейронные сети\n",
        "__Суммарное количество баллов: 10__\n",
        "\n",
        "__Решение отправлять на `ml.course.practice@gmail.com`__\n",
        "\n",
        "__Тема письма: `[ML][HW05] <ФИ>`, где вместо `<ФИ>` указаны фамилия и имя__\n",
        "\n",
        "Для начала вам предстоит реализовать свой собственный backpropagation и протестировать его на реальных данных, а затем научиться обучать нейронные сети при помощи библиотеки `PyTorch` и использовать это умение для классификации классического набора данных CIFAR10."
      ]
    },
    {
      "cell_type": "code",
      "metadata": {
        "id": "22ezVRf3QuvA"
      },
      "source": [
        "from typing import List\n",
        "import random\n",
        "\n",
        "import numpy\n",
        "from sklearn.datasets import make_blobs, make_moons"
      ],
      "execution_count": 1,
      "outputs": []
    },
    {
      "cell_type": "code",
      "metadata": {
        "id": "um81zMziKW3g"
      },
      "source": [
        "SEED=7\n",
        "numpy.random.seed(SEED)\n",
        "random.seed(SEED)"
      ],
      "execution_count": 2,
      "outputs": []
    },
    {
      "cell_type": "markdown",
      "metadata": {
        "id": "4qfDPH_LQuvF"
      },
      "source": [
        "### Задание 1 (3 балла)\n",
        "Нейронные сети состоят из слоев, поэтому для начала понадобится реализовать их. Пока нам понадобятся только три:\n",
        "\n",
        "`Linear` - полносвязный слой, в котором `y = Wx + b`, где `y` - выход, `x` - вход, `W` - матрица весов, а `b` - смещение. \n",
        "\n",
        "`ReLU` - слой, соответствующий функции активации `y = max(0, x)`.\n",
        "\n",
        "`Softmax` - слой, соответствующий функции активации [softmax](https://ru.wikipedia.org/wiki/Softmax)\n",
        "\n",
        "\n",
        "#### Методы\n",
        "`forward(X)` - возвращает предсказанные для `X`. `X` может быть как вектором, так и батчем\n",
        "\n",
        "`backward(d)` - считает градиент при помощи обратного распространения ошибки. Возвращает новое значение `d`\n",
        "\n",
        "`update(alpha)` - обновляет веса (если необходимо) с заданой скоростью обучения"
      ]
    },
    {
      "cell_type": "code",
      "metadata": {
        "id": "RWFLlHqaYbgC"
      },
      "source": [
        "class Module:\n",
        "    \"\"\"\n",
        "    Абстрактный класс. Его менять не нужно.\n",
        "    \"\"\"\n",
        "\n",
        "    _input = None\n",
        "    def forward(self, *args):\n",
        "        raise NotImplementedError()\n",
        "    \n",
        "    def backward(self, d):\n",
        "        raise NotImplementedError()\n",
        "        \n",
        "    def update(self, alpha):\n",
        "        pass"
      ],
      "execution_count": 3,
      "outputs": []
    },
    {
      "cell_type": "code",
      "metadata": {
        "id": "aYS2gE4PYepZ"
      },
      "source": [
        "class Linear(Module):\n",
        "    _grad_weights = None\n",
        "    _grad_biases = None\n",
        "    \"\"\"\n",
        "    Линейный полносвязный слой.\n",
        "    \"\"\"\n",
        "    def __init__(self, in_features: int, out_features: int):\n",
        "        \"\"\"\n",
        "        Parameters\n",
        "        ----------\n",
        "        in_features : int\n",
        "            Размер входа.\n",
        "        out_features : int \n",
        "            Размер выхода.\n",
        "    \n",
        "        Notes\n",
        "        -----\n",
        "        W и b инициализируются случайно.\n",
        "        \"\"\"\n",
        "        self._weights = numpy.random.randn(in_features, out_features) * 0.01\n",
        "        self._biases = numpy.zeros(out_features)\n",
        "    \n",
        "    def forward(self, x: numpy.ndarray) -> numpy.ndarray:\n",
        "        \"\"\"\n",
        "        Возвращает y = Wx + b.\n",
        "\n",
        "        Parameters\n",
        "        ----------\n",
        "        x : ndarray\n",
        "            Входной вектор или батч.\n",
        "            То есть, либо x вектор с in_features элементов,\n",
        "            либо матрица размерности (batch_size, in_features).\n",
        "    \n",
        "        Return\n",
        "        ------\n",
        "        y : ndarray\n",
        "            Выход после слоя.\n",
        "            Либо вектор с out_features элементами,\n",
        "            либо матрица размерности (batch_size, out_features)\n",
        "\n",
        "        \"\"\"\n",
        "        self._input = x\n",
        "        return x.dot(self._weights) + self._biases\n",
        "    \n",
        "    def backward(self, grad_output: numpy.ndarray) -> numpy.ndarray:\n",
        "        \"\"\"\n",
        "        Cчитает градиент при помощи обратного распространения ошибки.\n",
        "\n",
        "        Parameters\n",
        "        ----------\n",
        "        d : np.ndarray\n",
        "            Градиент.\n",
        "        Return\n",
        "        ------\n",
        "        np.ndarray\n",
        "            Новое значение градиента.\n",
        "        \"\"\"\n",
        "        self._grad_weights = self._input.T.dot(grad_output)\n",
        "        self._grad_biases = grad_output.sum(axis=0)\n",
        "\n",
        "        return grad_output.dot(self._weights.T)\n",
        "        \n",
        "    def update(self, alpha: float):\n",
        "        \"\"\"\n",
        "        Обновляет W и b с заданной скоростью обучения.\n",
        "\n",
        "        Parameters\n",
        "        ----------\n",
        "        alpha : float\n",
        "            Скорость обучения.\n",
        "        \"\"\"\n",
        "        self._weights -= alpha * self._grad_weights\n",
        "        self._biases -= alpha * self._grad_biases"
      ],
      "execution_count": 4,
      "outputs": []
    },
    {
      "cell_type": "code",
      "metadata": {
        "id": "94hkbnD1QuvG"
      },
      "source": [
        "class ReLU(Module):\n",
        "    \"\"\"\n",
        "    Слой, соответствующий функции активации ReLU.\n",
        "    \"\"\"\n",
        "    def __init__(self):\n",
        "        pass\n",
        "    \n",
        "    def forward(self, x: numpy.ndarray) -> numpy.ndarray:\n",
        "        \"\"\"\n",
        "        Возвращает y = max(0, x).\n",
        "\n",
        "        Parameters\n",
        "        ----------\n",
        "        x : np.ndarray\n",
        "            Входной вектор или батч.\n",
        "    \n",
        "        Return\n",
        "        ------\n",
        "        y : np.ndarray\n",
        "            Выход после слоя (той же размерности, что и вход).\n",
        "\n",
        "        \"\"\"\n",
        "        self._input = x\n",
        "        return numpy.maximum(x, 0)\n",
        "        \n",
        "    def backward(self, d) -> numpy.ndarray:\n",
        "        \"\"\"\n",
        "        Cчитает градиент при помощи обратного распространения ошибки.\n",
        "\n",
        "        Parameters\n",
        "        ----------\n",
        "        d : np.ndarray\n",
        "            Градиент.\n",
        "        Return\n",
        "        ------\n",
        "        np.ndarray\n",
        "            Новое значение градиента.\n",
        "        \"\"\"\n",
        "        relu_grad = self._input > 0\n",
        "        return d * relu_grad\n",
        "        \n",
        "        \n",
        "class SoftmaxCrossEntropy(Module):\n",
        "    \"\"\"\n",
        "    Слой, соответствующий функции активации Softmax.\n",
        "    \"\"\"\n",
        "    _true_labels = None\n",
        "\n",
        "    def __init__(self):\n",
        "        pass\n",
        "\n",
        "    def forward(self, x: numpy.ndarray, true_labels: numpy.ndarray) -> numpy.ndarray:\n",
        "        \"\"\"\n",
        "        Возвращает y = Softmax(x).\n",
        "\n",
        "        Parameters\n",
        "        ----------\n",
        "        x : np.ndarray\n",
        "            Входной вектор или батч.\n",
        "    \n",
        "        Return\n",
        "        ------\n",
        "        y : np.ndarray\n",
        "            Выход после слоя (той же размерности, что и вход).\n",
        "\n",
        "        \"\"\"\n",
        "        self._input = x\n",
        "        self._true_labels = true_labels\n",
        "        \n",
        "        logits_for_answer = x[numpy.arange(x.shape[0]), self._true_labels]\n",
        "        return -logits_for_answer + numpy.log(numpy.exp(x).sum(axis=-1))\n",
        "        \n",
        "    def backward(self, d) -> numpy.ndarray:\n",
        "        \"\"\"\n",
        "        Cчитает градиент при помощи обратного распространения ошибки.\n",
        "\n",
        "        Parameters\n",
        "        ----------\n",
        "        d : np.ndarray\n",
        "            Градиент.\n",
        "        Return\n",
        "        ------\n",
        "        np.ndarray\n",
        "            Новое значение градиента.\n",
        "        \"\"\"\n",
        "        ones_for_answer = numpy.zeros_like(self._input)\n",
        "        ones_for_answer[numpy.arange(self._input.shape[0]), self._true_labels] = 1\n",
        "\n",
        "        exp = numpy.exp(self._input)\n",
        "        softmax = exp / exp.sum(axis=-1, keepdims=True)\n",
        "        return -ones_for_answer + softmax"
      ],
      "execution_count": 5,
      "outputs": []
    },
    {
      "cell_type": "markdown",
      "metadata": {
        "id": "Rb_ip_h8QuvJ"
      },
      "source": [
        "### Задание 2 (2 балла)\n",
        "Теперь сделаем саму нейронную сеть.\n",
        "\n",
        "#### Методы\n",
        "`fit(X, y)` - обучает нейронную сеть заданное число эпох. В каждой эпохе необходимо использовать [cross-entropy loss](https://ml-cheatsheet.readthedocs.io/en/latest/loss_functions.html#cross-entropy) для обучения, а так же производить обновления не по одному элементу, а используя батчи.\n",
        "\n",
        "`predict_proba(X)` - предсказывает вероятности классов для элементов `X`\n",
        "\n",
        "#### Параметры конструктора\n",
        "`modules` - список, состоящий из ранее реализованных модулей и описывающий слои нейронной сети. В конец необходимо добавить `Softmax`\n",
        "\n",
        "`epochs` - количество эпох обучения\n",
        "\n",
        "`alpha` - скорость обучения"
      ]
    },
    {
      "cell_type": "code",
      "metadata": {
        "id": "Q_JFCizKQuvK"
      },
      "source": [
        "class MLPClassifier:\n",
        "    def __init__(self, modules: List[Module], epochs: int = 40, alpha: float = 0.01):\n",
        "        \"\"\"\n",
        "        Parameters\n",
        "        ----------\n",
        "        modules : List[Module]\n",
        "            Cписок, состоящий из ранее реализованных модулей и \n",
        "            описывающий слои нейронной сети. \n",
        "            В конец необходимо добавить Softmax.\n",
        "        epochs : int\n",
        "            Количество эпох обученияю\n",
        "        alpha : float\n",
        "            Cкорость обучения.\n",
        "        \"\"\"\n",
        "        self._layers = modules\n",
        "        self._n_epoch = epochs\n",
        "        self._lr = alpha\n",
        "            \n",
        "    def fit(self, X: numpy.ndarray, y: numpy.ndarray, batch_size=32):\n",
        "        \"\"\"\n",
        "        Обучает нейронную сеть заданное число эпох. \n",
        "        В каждой эпохе необходимо использовать cross-entropy loss для обучения, \n",
        "        а так же производить обновления не по одному элементу, а используя батчи.\n",
        "\n",
        "        Parameters\n",
        "        ----------\n",
        "        X : np.ndarray\n",
        "            Данные для обучения.\n",
        "        y : np.ndarray\n",
        "            Вектор меток классов для данных.\n",
        "        batch_size : int\n",
        "            Размер батча.\n",
        "        \"\"\"\n",
        "        softmax_cross_entropy_loss = SoftmaxCrossEntropy()\n",
        "        n_batches = X.shape[0] // batch_size + (0 if X.shape[0] % batch_size == 0 else 1)\n",
        "        for epoch in range(self._n_epoch):\n",
        "            for i in range(n_batches):\n",
        "                cur_slice = slice(i * batch_size, min((i + 1) * batch_size, X.shape[0]))\n",
        "\n",
        "                batch = X[cur_slice]\n",
        "                for layer in self._layers:\n",
        "                    batch = layer.forward(batch)\n",
        "\n",
        "                loss = softmax_cross_entropy_loss.forward(batch, y[cur_slice])\n",
        "#                 print(loss)\n",
        "\n",
        "                upcomming_grad = softmax_cross_entropy_loss.backward(None)\n",
        "                for layer in reversed(self._layers):\n",
        "                    upcomming_grad = layer.backward(upcomming_grad)\n",
        "\n",
        "\n",
        "                for layer in self._layers:\n",
        "                    layer.update(self._lr)\n",
        "        \n",
        "    def predict_proba(self, X: numpy.ndarray) -> numpy.ndarray:\n",
        "        \"\"\"\n",
        "        Предсказывает вероятности классов для элементов X.\n",
        "\n",
        "        Parameters\n",
        "        ----------\n",
        "        X : np.ndarray\n",
        "            Данные для предсказания.\n",
        "        \n",
        "        Return\n",
        "        ------\n",
        "        np.ndarray\n",
        "            Предсказанные вероятности классов для всех элементов X.\n",
        "            Размерность (X.shape[0], n_classes)\n",
        "        \n",
        "        \"\"\"\n",
        "        for layer in self._layers:\n",
        "            X = layer.forward(X)\n",
        "        exp = numpy.exp(X)\n",
        "        return exp / exp.sum(axis=-1, keepdims=True)\n",
        "        \n",
        "    def predict(self, X) -> numpy.ndarray:\n",
        "        \"\"\"\n",
        "        Предсказывает метки классов для элементов X.\n",
        "\n",
        "        Parameters\n",
        "        ----------\n",
        "        X : np.ndarray\n",
        "            Данные для предсказания.\n",
        "        \n",
        "        Return\n",
        "        ------\n",
        "        np.ndarray\n",
        "            Вектор предсказанных классов\n",
        "        \n",
        "        \"\"\"\n",
        "        p = self.predict_proba(X)\n",
        "        return numpy.argmax(p, axis=1)"
      ],
      "execution_count": 6,
      "outputs": []
    },
    {
      "cell_type": "code",
      "metadata": {
        "id": "onDymYQXQuvN"
      },
      "source": [
        "p = MLPClassifier([\n",
        "    Linear(4, 64),\n",
        "    ReLU(),\n",
        "    Linear(64, 64),\n",
        "    ReLU(),\n",
        "    Linear(64, 2)\n",
        "])\n",
        "\n",
        "X = numpy.random.randn(50, 4)\n",
        "y = [(0 if x[0] > x[2]**2 or x[3]**3 > 0.5 else 1) for x in X]\n",
        "p.fit(X, y)"
      ],
      "execution_count": 7,
      "outputs": []
    },
    {
      "cell_type": "markdown",
      "metadata": {
        "id": "3C1EIsDqQuvQ"
      },
      "source": [
        "### Задание 3 (2 балла)\n",
        "Протестируем наше решение на синтетических данных. Необходимо подобрать гиперпараметры, при которых качество полученных классификаторов будет достаточным.\n",
        "\n",
        "#### Оценка\n",
        "Accuracy на первом датасете больше 0.85 - +1 балл\n",
        "\n",
        "Accuracy на втором датасете больше 0.85 - +1 балл"
      ]
    },
    {
      "cell_type": "code",
      "metadata": {
        "id": "d5UAgXTcQuvQ",
        "outputId": "82be22b1-ce7b-43ea-addc-899b11797ccd",
        "colab": {
          "base_uri": "https://localhost:8080/"
        }
      },
      "source": [
        "X, y = make_moons(400, noise=0.075)\n",
        "X_test, y_test = make_moons(400, noise=0.075)\n",
        "\n",
        "best_acc = 0\n",
        "for _ in range(25):\n",
        "    p = MLPClassifier([Linear(2, 32), ReLU(), Linear(32, 2)], epochs=100)\n",
        "\n",
        "    p.fit(X, y)\n",
        "    best_acc = max(numpy.mean(p.predict(X_test) == y_test), best_acc)\n",
        "print(\"Accuracy\", best_acc)"
      ],
      "execution_count": 8,
      "outputs": [
        {
          "output_type": "stream",
          "text": [
            "Accuracy 0.995\n"
          ],
          "name": "stdout"
        }
      ]
    },
    {
      "cell_type": "code",
      "metadata": {
        "id": "MMDJM4qFQuvT",
        "outputId": "b9f7a62d-4d7a-4d17-cf10-6c8033778a3c",
        "colab": {
          "base_uri": "https://localhost:8080/"
        }
      },
      "source": [
        "X, y = make_blobs(400, 2, centers=[[0, 0], [2.5, 2.5], [-2.5, 3]])\n",
        "X_test, y_test = make_blobs(400, 2, centers=[[0, 0], [2.5, 2.5], [-2.5, 3]])\n",
        "best_acc = 0\n",
        "for _ in range(25):\n",
        "    p = MLPClassifier([Linear(2, 32), ReLU(), Linear(32, 3)], epochs=100)\n",
        "\n",
        "    p.fit(X, y)\n",
        "    best_acc = max(numpy.mean(p.predict(X_test) == y_test), best_acc)\n",
        "print(\"Accuracy\", best_acc)"
      ],
      "execution_count": 9,
      "outputs": [
        {
          "output_type": "stream",
          "text": [
            "Accuracy 0.9575\n"
          ],
          "name": "stdout"
        }
      ]
    },
    {
      "cell_type": "markdown",
      "metadata": {
        "id": "nPbVTFnMQuvW"
      },
      "source": [
        "## PyTorch\n",
        "\n",
        "Для выполнения следующего задания понадобится PyTorch. [Инструкция по установке](https://pytorch.org/get-started/locally/)\n",
        "\n",
        "Если у вас нет GPU, то можно использовать [Google Colab](https://colab.research.google.com/)"
      ]
    },
    {
      "cell_type": "code",
      "metadata": {
        "id": "tV0mJLu-QuvX"
      },
      "source": [
        "from torchvision import datasets, transforms\n",
        "from torch.utils.data import DataLoader\n",
        "import torch\n",
        "from tqdm import tqdm\n",
        "from torch import nn\n",
        "import torch.nn.functional as F\n",
        "import matplotlib.pyplot as plt"
      ],
      "execution_count": 10,
      "outputs": []
    },
    {
      "cell_type": "code",
      "metadata": {
        "id": "VUC_QqpAQuva",
        "outputId": "a6de2062-9d7c-40f3-f8ec-316d5bc4038c",
        "colab": {
          "base_uri": "https://localhost:8080/"
        }
      },
      "source": [
        "device = torch.device(\"cuda\" if torch.cuda.is_available() else \"cpu\")\n",
        "\n",
        "t = transforms.ToTensor()\n",
        "\n",
        "cifar_train = datasets.CIFAR10(\"datasets/cifar10\", download=True, train=True, transform=t)\n",
        "train_loader = DataLoader(cifar_train, batch_size=1024, shuffle=True, pin_memory=torch.cuda.is_available())\n",
        "cifar_test = datasets.CIFAR10(\"datasets/cifar10\", download=True, train=False, transform=t)\n",
        "test_loader = DataLoader(cifar_test, batch_size=1024, shuffle=False, pin_memory=torch.cuda.is_available())"
      ],
      "execution_count": 11,
      "outputs": [
        {
          "output_type": "stream",
          "text": [
            "Files already downloaded and verified\n",
            "Files already downloaded and verified\n"
          ],
          "name": "stdout"
        }
      ]
    },
    {
      "cell_type": "markdown",
      "metadata": {
        "id": "rGmpjcFfQuvd"
      },
      "source": [
        "### Задание 4 (3 балла)\n",
        "А теперь поработам с настоящими нейронными сетями и настоящими данными. Необходимо реализовать сверточную нейронную сеть, которая будет классифицировать изображения из датасета CIFAR10. Имплементируйте класс `Model` и функцию `calculate_loss`. \n",
        "\n",
        "Обратите внимание, что `Model` должна считать в конце `softmax`, т.к. мы решаем задачу классификации. Соответствеено, функция `calculate_loss` считает cross-entropy.\n",
        "\n",
        "Для успешного выполнения задания необходимо, чтобы `accuracy`, `mean precision` и `mean recall` были больше 0.5\n",
        "\n",
        "__Можно пользоваться всем содержимым библиотеки PyTorch.__"
      ]
    },
    {
      "cell_type": "code",
      "metadata": {
        "id": "5sRmTKwKQuve"
      },
      "source": [
        "class Model(nn.Module):\n",
        "    def __init__(self):\n",
        "        super().__init__()\n",
        "        self._layers = nn.Sequential(\n",
        "            nn.Conv2d(3, 16, 3, padding=1),\n",
        "            nn.LeakyReLU(0.1),\n",
        "            nn.Conv2d(16, 32, 3, padding=1),\n",
        "            nn.LeakyReLU(0.1),\n",
        "            nn.MaxPool2d(2),\n",
        "            nn.Dropout(0.25),\n",
        "            \n",
        "            nn.Conv2d(32, 32, 3, padding=1),\n",
        "            nn.LeakyReLU(0.1),\n",
        "            nn.Conv2d(32, 64, 3, padding=1),\n",
        "            nn.LeakyReLU(0.1),\n",
        "            nn.MaxPool2d(2),\n",
        "            nn.Dropout(0.25),\n",
        "            \n",
        "            nn.Flatten(),\n",
        "            nn.Linear(4096, 256),\n",
        "            nn.LeakyReLU(0.1),\n",
        "            nn.Dropout(0.5),\n",
        "            nn.Linear(256, 10)\n",
        "        )\n",
        "        \n",
        "    def forward(self, x: torch.Tensor) -> torch.Tensor:\n",
        "        return self._layers(x)\n",
        "        \n",
        "def calculate_loss(X: torch.Tensor, y: torch.Tensor, model: Model):\n",
        "    \"\"\"\n",
        "    Cчитает cross-entropy.\n",
        "\n",
        "    Parameters\n",
        "    ----------\n",
        "    X : torch.Tensor\n",
        "        Данные для обучения.\n",
        "    y : torch.Tensor\n",
        "        Метки классов.\n",
        "    model : Model\n",
        "        Модель, которую будем обучать.\n",
        "\n",
        "    \"\"\"\n",
        "    logits = model(X)\n",
        "    return nn.functional.cross_entropy(logits, y)"
      ],
      "execution_count": 12,
      "outputs": []
    },
    {
      "cell_type": "markdown",
      "metadata": {
        "id": "JAsLmkUqQuvh"
      },
      "source": [
        "Теперь обучим нашу модель. Для этого используем ранее созданные batch loader'ы."
      ]
    },
    {
      "cell_type": "code",
      "metadata": {
        "id": "k5G8iMCeQuvh"
      },
      "source": [
        "def train(model, epochs=100):\n",
        "    optimizer = torch.optim.Adam(model.parameters())\n",
        "    train_losses = []\n",
        "    test_losses = []\n",
        "    for i in range(epochs):\n",
        "        #Train\n",
        "        loss_mean = 0\n",
        "        elements = 0\n",
        "        for X, y in iter(train_loader):\n",
        "            X = X.to(device)\n",
        "            y = y.to(device)\n",
        "            loss = calculate_loss(X, y, model)\n",
        "            optimizer.zero_grad()\n",
        "            loss.backward()\n",
        "            optimizer.step()\n",
        "            loss_mean += loss.item() * len(X)\n",
        "            elements += len(X)\n",
        "        train_losses.append(loss_mean / elements)\n",
        "        #Test\n",
        "        loss_mean = 0 \n",
        "        elements = 0\n",
        "        for X, y in iter(test_loader):\n",
        "            X = X.to(device)\n",
        "            y = y.to(device)\n",
        "            loss = calculate_loss(X, y, model)\n",
        "            loss_mean += loss.item() * len(X)\n",
        "            elements += len(X)\n",
        "        test_losses.append(loss_mean / elements)\n",
        "        print(\"Epoch\", i, \"| Train loss\", train_losses[-1], \"| Test loss\", test_losses[-1])\n",
        "    return train_losses, test_losses"
      ],
      "execution_count": 13,
      "outputs": []
    },
    {
      "cell_type": "code",
      "metadata": {
        "id": "vmD9eWJOQuvl",
        "scrolled": true,
        "outputId": "206c4a73-671c-4f33-e3d6-7a7d295a4b99",
        "colab": {
          "base_uri": "https://localhost:8080/"
        }
      },
      "source": [
        "model = Model().to(device)\n",
        "train_l, test_l = train(model, epochs=25)"
      ],
      "execution_count": 14,
      "outputs": [
        {
          "output_type": "stream",
          "text": [
            "Epoch 0 | Train loss 2.0483265200805665 | Test loss 1.7990222259521484\n",
            "Epoch 1 | Train loss 1.6562317849731445 | Test loss 1.5417714754104614\n",
            "Epoch 2 | Train loss 1.4849501008987427 | Test loss 1.4420964521408082\n",
            "Epoch 3 | Train loss 1.367998252067566 | Test loss 1.3303483995437622\n",
            "Epoch 4 | Train loss 1.295308695640564 | Test loss 1.2761020544052124\n",
            "Epoch 5 | Train loss 1.2149629946136475 | Test loss 1.2014528135299682\n",
            "Epoch 6 | Train loss 1.1480359329986571 | Test loss 1.1554454216003418\n",
            "Epoch 7 | Train loss 1.0990856608200072 | Test loss 1.1166933212280274\n",
            "Epoch 8 | Train loss 1.0444721412467957 | Test loss 1.085098857498169\n",
            "Epoch 9 | Train loss 1.0079493948745728 | Test loss 1.07614432888031\n",
            "Epoch 10 | Train loss 0.9665773336219787 | Test loss 1.0361858976364136\n",
            "Epoch 11 | Train loss 0.9320790217208862 | Test loss 1.0279901399612428\n",
            "Epoch 12 | Train loss 0.9047576646614075 | Test loss 0.9954395523071289\n",
            "Epoch 13 | Train loss 0.8813370776748657 | Test loss 0.9756577834129333\n",
            "Epoch 14 | Train loss 0.8471946747970581 | Test loss 0.9896527376174927\n",
            "Epoch 15 | Train loss 0.8299552839469909 | Test loss 0.9647635927200318\n",
            "Epoch 16 | Train loss 0.8044926567459106 | Test loss 0.9637246829986572\n",
            "Epoch 17 | Train loss 0.7842049255943299 | Test loss 0.9786585794448852\n",
            "Epoch 18 | Train loss 0.7650994051933289 | Test loss 0.9448185346603394\n",
            "Epoch 19 | Train loss 0.7475840577697754 | Test loss 0.9478937201499938\n",
            "Epoch 20 | Train loss 0.7339638496780395 | Test loss 0.941263641834259\n",
            "Epoch 21 | Train loss 0.7123521641921997 | Test loss 0.9377067646980286\n",
            "Epoch 22 | Train loss 0.6885453952217102 | Test loss 0.936369598197937\n",
            "Epoch 23 | Train loss 0.6796349753189087 | Test loss 0.9369003253936767\n",
            "Epoch 24 | Train loss 0.65907157913208 | Test loss 0.9192741644859314\n"
          ],
          "name": "stdout"
        }
      ]
    },
    {
      "cell_type": "markdown",
      "metadata": {
        "id": "OJNAuHjNQuvn"
      },
      "source": [
        "Построим график функции потерь"
      ]
    },
    {
      "cell_type": "code",
      "metadata": {
        "id": "F6OEGqriQuvo",
        "outputId": "fcfc5877-570c-4042-c324-abbabebca596",
        "colab": {
          "base_uri": "https://localhost:8080/",
          "height": 441
        }
      },
      "source": [
        "plt.figure(figsize=(12, 6))\n",
        "plt.plot(range(len(train_l)), train_l, label=\"train\")\n",
        "plt.plot(range(len(test_l)), test_l, label=\"test\")\n",
        "plt.xlabel(\"Epoch\")\n",
        "plt.ylabel(\"Loss\")\n",
        "plt.legend()\n",
        "plt.tight_layout()\n",
        "plt.show()"
      ],
      "execution_count": 15,
      "outputs": [
        {
          "output_type": "display_data",
          "data": {
            "image/png": "[encoded data removed]",
            "text/plain": [
              "<Figure size 864x432 with 1 Axes>"
            ]
          },
          "metadata": {
            "tags": [],
            "needs_background": "light"
          }
        }
      ]
    },
    {
      "cell_type": "markdown",
      "metadata": {
        "id": "miUxg0bDQuvs"
      },
      "source": [
        "И, наконец, посчитаем метрики"
      ]
    },
    {
      "cell_type": "code",
      "metadata": {
        "id": "UXSOJFI8Quvt",
        "outputId": "f997d9b5-3974-4e2f-e60c-032683f4edd6",
        "colab": {
          "base_uri": "https://localhost:8080/"
        }
      },
      "source": [
        "true_positive = numpy.zeros(10)\n",
        "true_negative = numpy.zeros(10)\n",
        "false_positive = numpy.zeros(10)\n",
        "false_negative = numpy.zeros(10)\n",
        "accuracy = 0\n",
        "ctn = 0\n",
        "for X, y in iter(test_loader):\n",
        "    X = X.to(device)\n",
        "    y = y.to(device)\n",
        "    with torch.no_grad():\n",
        "        y_pred = model(X).max(dim=1)[1]\n",
        "    for i in range(10):\n",
        "        for pred, real in zip(y_pred, y):\n",
        "            if real == i:\n",
        "                if pred == real:\n",
        "                    true_positive[i] += 1\n",
        "                else:\n",
        "                    false_negative[i] += 1\n",
        "            else:\n",
        "                if pred == i:\n",
        "                    false_positive[i] += 1\n",
        "                else:\n",
        "                    true_negative[i] += 1\n",
        "            \n",
        "    accuracy += torch.sum(y_pred == y).item()\n",
        "    ctn += len(y)\n",
        "print(\"Overall accuracy\", accuracy / ctn)\n",
        "print(\"Precision\", true_positive / (true_positive + false_positive))\n",
        "print(\"Recall\", true_positive / (true_positive + false_negative))\n",
        "print(\"Mean Precision\", numpy.mean(true_positive / (true_positive + false_positive)))\n",
        "print(\"Mean Recall\", numpy.mean(true_positive / (true_positive + false_negative)))"
      ],
      "execution_count": 16,
      "outputs": [
        {
          "output_type": "stream",
          "text": [
            "Overall accuracy 0.6841\n",
            "Precision [0.70392157 0.8006012  0.59278897 0.50484392 0.59051724 0.57560976\n",
            " 0.77059437 0.75777063 0.77756654 0.77166157]\n",
            "Recall [0.718 0.799 0.559 0.469 0.685 0.59  0.739 0.707 0.818 0.757]\n",
            "Mean Precision 0.684587576932259\n",
            "Mean Recall 0.6840999999999999\n"
          ],
          "name": "stdout"
        }
      ]
    }
  ]
}
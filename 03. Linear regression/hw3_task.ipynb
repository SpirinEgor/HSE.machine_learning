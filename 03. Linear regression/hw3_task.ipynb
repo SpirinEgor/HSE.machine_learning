{
 "nbformat": 4,
 "nbformat_minor": 0,
 "metadata": {
  "kernelspec": {
   "display_name": "Python 3",
   "language": "python",
   "name": "python3"
  },
  "language_info": {
   "codemirror_mode": {
    "name": "ipython",
    "version": 3
   },
   "file_extension": ".py",
   "mimetype": "text/x-python",
   "name": "python",
   "nbconvert_exporter": "python",
   "pygments_lexer": "ipython3",
   "version": "3.7.3"
  },
  "colab": {
   "name": "hw3_task.ipynb",
   "provenance": [],
   "collapsed_sections": []
  }
 },
 "cells": [
  {
   "cell_type": "markdown",
   "metadata": {
    "id": "afIgLBWb689l"
   },
   "source": [
    "# Линейная регрессия\n",
    "__Суммарное количество баллов: 10__\n",
    "\n",
    "__Решение отправлять на `ml.course.practice@gmail.com`__\n",
    "\n",
    "__Тема письма: `[ML][MS][HW03] <ФИ>`, где вместо `<ФИ>` указаны фамилия и имя__"
   ]
  },
  {
   "cell_type": "code",
   "metadata": {
    "id": "bYKrc1lO689l"
   },
   "source": [
    "import random\n",
    "\n",
    "import matplotlib.pyplot as plt\n",
    "import numpy\n",
    "from sklearn.model_selection import train_test_split\n",
    "from sklearn.preprocessing import StandardScaler"
   ],
   "execution_count": 1,
   "outputs": []
  },
  {
   "cell_type": "code",
   "execution_count": 2,
   "outputs": [],
   "source": [
    "SEED = 7\n",
    "random.seed(SEED)\n",
    "numpy.random.seed(SEED)"
   ],
   "metadata": {
    "collapsed": false,
    "pycharm": {
     "name": "#%%\n"
    }
   }
  },
  {
   "cell_type": "code",
   "metadata": {
    "id": "VOGx85I5689m"
   },
   "source": [
    "def read_data(path=\"boston.csv\"):\n",
    "    dataframe = numpy.genfromtxt(path, delimiter=\",\", skip_header=15)\n",
    "    numpy.random.seed(42)\n",
    "    numpy.random.shuffle(dataframe)\n",
    "    X = dataframe[:, :-1]\n",
    "    y = dataframe[:, -1]\n",
    "    return X, y"
   ],
   "execution_count": 3,
   "outputs": []
  },
  {
   "cell_type": "code",
   "metadata": {
    "id": "tte75xx7689m"
   },
   "source": [
    "def generate_synthetic(size:int, dim=6, noise=0.1):\n",
    "    X = numpy.random.randn(size, dim)\n",
    "    w = numpy.random.randn(dim + 1)\n",
    "    noise = noise * numpy.random.randn(size)\n",
    "    y = X.dot(w[1:]) + w[0] + noise\n",
    "    return X, y"
   ],
   "execution_count": 4,
   "outputs": []
  },
  {
   "cell_type": "markdown",
   "metadata": {
    "id": "Aab8Oyui689m"
   },
   "source": [
    "### Задание 1 (1 балл)\n",
    "Для начала нужно понять, какую метрику для ошибки будем использовать. В нашем случае нам подойдет стандартная метрика MSE. Также чтобы оценить качество модели нам понадобится метрика $R^2$. Реализуйте обе эти метрики."
   ]
  },
  {
   "cell_type": "code",
   "metadata": {
    "id": "RDUbABpp689m"
   },
   "source": [
    "def mse(y_true: numpy.ndarray, y_predicted: numpy.ndarray):\n",
    "    diff = y_true - y_predicted\n",
    "    return (diff * diff).mean()\n",
    "\n",
    "def r2(y_true: numpy.ndarray, y_predicted: numpy.ndarray):\n",
    "    diff = y_true - y_predicted\n",
    "    u = (diff * diff).sum()\n",
    "    var = y_true - y_true.mean()\n",
    "    v = (var * var).sum()\n",
    "    return 1 - u / v"
   ],
   "execution_count": 5,
   "outputs": []
  },
  {
   "cell_type": "markdown",
   "metadata": {
    "id": "Qqlg3KeW689m"
   },
   "source": [
    "### Задание 2 (3 балла)\n",
    "Теперь реализуем линейную регрессию при помощи явного решения задачи минимизации. \n",
    "\n",
    "#### Методы\n",
    "`fit(X, y)` - решает задачу минимизации $\\arg\\min_{w, b}\\sum ((w\\cdot x + b) - y)^2$. \n",
    "\n",
    "`predict(X)` - строит предсказание `y` для объектов из `X`."
   ]
  },
  {
   "cell_type": "code",
   "execution_count": 6,
   "outputs": [],
   "source": [
    "def add_ones_feature(x: numpy.ndarray) -> numpy.ndarray:\n",
    "    new_x = numpy.ones((x.shape[0], x.shape[1] + 1), dtype=x.dtype)\n",
    "    new_x[:, :-1] = x\n",
    "    return new_x"
   ],
   "metadata": {
    "collapsed": false,
    "pycharm": {
     "name": "#%%\n"
    }
   }
  },
  {
   "cell_type": "code",
   "metadata": {
    "id": "zTGLaghB689m"
   },
   "source": [
    "class NormalLR:\n",
    "    _x: numpy.ndarray = None\n",
    "    _y: numpy.ndarray = None\n",
    "    _w: numpy.ndarray = None\n",
    "    def __init__(self):\n",
    "        pass\n",
    "    \n",
    "    def fit(self, x: numpy.ndarray, y: numpy.ndarray):\n",
    "        self._x = add_ones_feature(x)\n",
    "        self._y = y.copy()\n",
    "        x_t = self._x.T\n",
    "        self._w = numpy.linalg.inv(x_t @ self._x) @ x_t @ self._y\n",
    "\n",
    "    def predict(self, x: numpy.ndarray) -> numpy.ndarray:\n",
    "        if self._w is None:\n",
    "            raise RuntimeError(\"fit regression before making predictions\")\n",
    "        return add_ones_feature(x) @ self._w"
   ],
   "execution_count": 7,
   "outputs": []
  },
  {
   "cell_type": "code",
   "metadata": {
    "id": "hgS8c_sM689m"
   },
   "source": [
    "X, y = generate_synthetic(1024)\n",
    "X_train, X_test, y_train, y_test = train_test_split(X, y, train_size=0.8)"
   ],
   "execution_count": 8,
   "outputs": []
  },
  {
   "cell_type": "code",
   "metadata": {
    "id": "9DjhMRug689m"
   },
   "source": [
    "regr = NormalLR()\n",
    "regr.fit(X_train, y_train)\n",
    "y_pred = regr.predict(X_test)\n",
    "print(f\"MSE: {mse(y_test, y_pred)}, R2: {r2(y_test, y_pred)}\")"
   ],
   "execution_count": 9,
   "outputs": [
    {
     "name": "stdout",
     "output_type": "stream",
     "text": [
      "MSE: 0.009874813186107334, R2: 0.9984125396879902\n"
     ]
    }
   ]
  },
  {
   "cell_type": "markdown",
   "metadata": {
    "id": "rPaByJZN689m"
   },
   "source": [
    "### Задание 3 (2 балла)\n",
    "Теперь реализуем линейную регрессию с использованием градиентного спуска с learning rate `alpha` в течении `iterations` итераций. В задании необходимо использовать регуляризацию Лассо с коэффициентом `l`.\n",
    "\n",
    "#### Методы\n",
    "`fit(X, y)` - приближает решение задачи минимизации $\\arg\\min_{w, b}\\sum ((w\\cdot x + b) - y)^2$ при помощи градиентного спуска. \n",
    "\n",
    "\n",
    "`predict(X)` - строит предсказание `y` для объектов из `X`."
   ]
  },
  {
   "cell_type": "code",
   "metadata": {
    "id": "oBmZJrhL689m"
   },
   "source": [
    "class GradientLR:\n",
    "    _x: numpy.ndarray = None\n",
    "    _y: numpy.ndarray = None\n",
    "    _w: numpy.ndarray = None\n",
    "    def __init__(self, alpha: float, iterations: int = 10000, l: float = 0., tol: float = 1e-8):\n",
    "        self._alpha = alpha\n",
    "        self._iterations = iterations\n",
    "        self._l = l\n",
    "        self._tol = tol\n",
    "    \n",
    "    def fit(self, x: numpy.ndarray, y: numpy.ndarray):\n",
    "        self._x = add_ones_feature(x)\n",
    "        self._y = y.copy()\n",
    "        x_t = self._x.T\n",
    "        self._w = numpy.zeros(self._x.shape[1])\n",
    "        for i in range(self._iterations):\n",
    "            grad = 2 / x.shape[0] * x_t @ (self._x @ self._w - self._y) +\\\n",
    "                   self._l * numpy.sign(self._w)\n",
    "            if numpy.alltrue(grad < self._tol):\n",
    "                break\n",
    "            self._w -= self._alpha * grad\n",
    "\n",
    "    def predict(self, x: numpy.ndarray):\n",
    "        if self._w is None:\n",
    "            raise RuntimeError(\"fit regression before making predictions\")\n",
    "        return add_ones_feature(x) @ self._w"
   ],
   "execution_count": 10,
   "outputs": []
  },
  {
   "cell_type": "code",
   "metadata": {
    "id": "OPG6AR_b689m"
   },
   "source": [
    "def build_plot(X_train, y_train, X_test, y_test):\n",
    "    xs = numpy.arange(0.0, 0.002, 0.00002)\n",
    "    errors = []\n",
    "    for x in xs:\n",
    "        regr = GradientLR(0.1, iterations=10000, l=x)\n",
    "        regr.fit(X_train, y_train)\n",
    "        errors.append(mse(y_test, regr.predict(X_test)))\n",
    "    plt.figure(figsize=(9, 4))\n",
    "    plt.xlim(xs[0], xs[-1])\n",
    "    plt.grid()\n",
    "    plt.plot(xs, errors)\n",
    "    plt.show()"
   ],
   "execution_count": 11,
   "outputs": []
  },
  {
   "cell_type": "code",
   "metadata": {
    "id": "6D5_9sSc689m"
   },
   "source": [
    "X, y = generate_synthetic(1024)\n",
    "X, X_val, y, y_val = train_test_split(X, y, train_size=0.9, shuffle=True)\n",
    "X_train, X_test, y_train, y_test = train_test_split(X, y, train_size=0.8, shuffle=True)"
   ],
   "execution_count": 12,
   "outputs": []
  },
  {
   "cell_type": "code",
   "metadata": {
    "id": "OzRIkE7P689m"
   },
   "source": [
    "build_plot(X_train, y_train, X_val, y_val)"
   ],
   "execution_count": 13,
   "outputs": [
    {
     "data": {
      "text/plain": "<Figure size 648x288 with 1 Axes>",
      "image/png": "[encoded data removed]"
     },
     "metadata": {
      "needs_background": "light"
     },
     "output_type": "display_data"
    }
   ]
  },
  {
   "cell_type": "code",
   "metadata": {
    "id": "e3EYauPK689m"
   },
   "source": [
    "regr = GradientLR(0.1, iterations=10000)\n",
    "regr.fit(X_train, y_train)\n",
    "y_pred = regr.predict(X_test)\n",
    "print(f\"MSE: {mse(y_test, y_pred)}, R2: {r2(y_test, y_pred)}\")"
   ],
   "execution_count": 14,
   "outputs": [
    {
     "name": "stdout",
     "output_type": "stream",
     "text": [
      "MSE: 0.009077597377692256, R2: 0.9942878191148885\n"
     ]
    }
   ]
  },
  {
   "cell_type": "markdown",
   "metadata": {
    "id": "S_WtOSFG689m"
   },
   "source": [
    "### Задание 4 (2 балла)\n",
    "Протестируйте оба метода на данных `boston.csv`, для градиентного спуска постройте график зависимости ошибки от коэффициента регуляризации."
   ]
  },
  {
   "cell_type": "code",
   "metadata": {
    "id": "_einEvle689m"
   },
   "source": [
    "X, y = read_data()\n",
    "X_train, X_val, y_train, y_val = train_test_split(X, y, train_size=0.8, shuffle=False)"
   ],
   "execution_count": 15,
   "outputs": []
  },
  {
   "cell_type": "code",
   "execution_count": 16,
   "outputs": [],
   "source": [
    "scaler_feature = StandardScaler()\n",
    "X_train = scaler_feature.fit_transform(X_train)\n",
    "X_val = scaler_feature.transform(X_val)\n",
    "\n",
    "# scaler_target = StandardScaler()\n",
    "# y_train = scaler_target.fit_transform(y_train.reshape(-1, 1)).ravel()\n",
    "# y_val = scaler_target.transform(y_val.reshape(-1, 1)).ravel()"
   ],
   "metadata": {
    "collapsed": false,
    "pycharm": {
     "name": "#%%\n"
    }
   }
  },
  {
   "cell_type": "code",
   "metadata": {
    "id": "jBswiVjC689m"
   },
   "source": [
    "regr = NormalLR()\n",
    "regr.fit(X_train, y_train)\n",
    "y_pred = regr.predict(X_val)\n",
    "print(f\"MSE: {mse(y_val, y_pred)}, R2: {r2(y_val, y_pred)}\")"
   ],
   "execution_count": 17,
   "outputs": [
    {
     "name": "stdout",
     "output_type": "stream",
     "text": [
      "MSE: 22266311.080836914, R2: 0.6872797475661049\n"
     ]
    }
   ]
  },
  {
   "cell_type": "code",
   "metadata": {
    "id": "dLUWno_N689m"
   },
   "source": [
    "build_plot(X_train, y_train, X_val, y_val)"
   ],
   "execution_count": 18,
   "outputs": [
    {
     "data": {
      "text/plain": "<Figure size 648x288 with 1 Axes>",
      "image/png": "[encoded data removed]"
     },
     "metadata": {
      "needs_background": "light"
     },
     "output_type": "display_data"
    }
   ]
  },
  {
   "cell_type": "code",
   "metadata": {
    "id": "pqHBX4Gn689m"
   },
   "source": [
    "regr = GradientLR(0.1, iterations=10000, l=0.05)\n",
    "regr.fit(X_train, y_train)\n",
    "y_pred = regr.predict(X_val)\n",
    "print(f\"MSE: {mse(y_val, y_pred)}, R2: {r2(y_val, y_pred)}\")"
   ],
   "execution_count": 19,
   "outputs": [
    {
     "name": "stdout",
     "output_type": "stream",
     "text": [
      "MSE: 22266028.772680447, R2: 0.6872837124562762\n"
     ]
    }
   ]
  },
  {
   "cell_type": "markdown",
   "metadata": {
    "id": "hYrkoSNw689m"
   },
   "source": [
    "### Задание 5 (2 балла)\n",
    "Проинтерпретируйте полученные результаты. Опишите влияние каждого признака на результат предсказания."
   ]
  },
  {
   "cell_type": "markdown",
   "metadata": {
    "id": "J_1RhVl8689m",
    "pycharm": {
     "name": "#%% md\n"
    }
   },
   "source": [
    "Упорядочим признаки по их \"вкладу\" в конечную стоимость дома, для этого необходимо отсортировать веса\n",
    "(чем вес признака выше, тем он важнее при оценке стоимости)"
   ]
  },
  {
   "cell_type": "code",
   "execution_count": 20,
   "outputs": [],
   "source": [
    "header_line = 15\n",
    "with open(\"boston.csv\", \"r\") as f:\n",
    "    for _ in range(header_line - 1):\n",
    "        f.readline()\n",
    "    features_names = f.readline()[:-1].split(\",\")[:-1]\n",
    "features_names.append(\"bias\")"
   ],
   "metadata": {
    "collapsed": false,
    "pycharm": {
     "name": "#%%\n"
    }
   }
  },
  {
   "cell_type": "code",
   "execution_count": 21,
   "outputs": [
    {
     "name": "stdout",
     "output_type": "stream",
     "text": [
      "rad: 2858.63\n",
      "rm: 2605.24\n",
      "zn: 1266.83\n",
      "b: 797.45\n",
      "chas: 590.05\n",
      "age: 295.03\n",
      "indus: -137.15\n",
      "crim: -946.28\n",
      "ptratio: -1965.91\n",
      "nox: -2005.72\n",
      "tax: -2453.07\n",
      "dis: -3285.89\n",
      "lstat: -4001.36\n"
     ]
    }
   ],
   "source": [
    "feature_weights = zip(features_names, regr._w.tolist())\n",
    "feature_weights = sorted(feature_weights, key=lambda f: f[1], reverse=True)\n",
    "\n",
    "print(\"\\n\".join([f\"{f}: {round(w, 2)}\" for f, w in feature_weights if f != \"bias\"]))"
   ],
   "metadata": {
    "collapsed": false,
    "pycharm": {
     "name": "#%%\n"
    }
   }
  },
  {
   "cell_type": "markdown",
   "source": [
    "У некоторых признаков отрицательный вес, это значит что эти признаки занижают цену."
   ],
   "metadata": {
    "collapsed": false,
    "pycharm": {
     "name": "#%% md\n"
    }
   }
  }
 ]
}
{
 "nbformat": 4,
 "nbformat_minor": 0,
 "metadata": {
  "kernelspec": {
   "display_name": "Python 3",
   "language": "python",
   "name": "python3"
  },
  "language_info": {
   "codemirror_mode": {
    "name": "ipython",
    "version": 3
   },
   "file_extension": ".py",
   "mimetype": "text/x-python",
   "name": "python",
   "nbconvert_exporter": "python",
   "pygments_lexer": "ipython3",
   "version": "3.7.3"
  },
  "colab": {
   "name": "hw09_task.ipynb",
   "provenance": [],
   "collapsed_sections": []
  }
 },
 "cells": [
  {
   "cell_type": "markdown",
   "metadata": {
    "id": "1PjQglGj4q54"
   },
   "source": [
    "# Случайные леса\n",
    "__Суммарное количество баллов: 10__\n",
    "\n",
    "__Решение отправлять на `ml.course.practice@gmail.com`__\n",
    "\n",
    "__Тема письма: `[ML][MS][HW09] <ФИ>`, где вместо `<ФИ>` указаны фамилия и имя__\n",
    "\n",
    "В этом задании вам предстоит реализовать ансамбль деревьев решений, известный как случайный лес, применить его к публичным данным пользователей социальной сети Вконтакте, и сравнить его эффективность с ансамблем, предоставляемым библиотекой CatBoost.\n",
    "\n",
    "В результате мы сможем определить, какие подписки пользователей больше всего влияют на определение возраста и пола человека. "
   ]
  },
  {
   "cell_type": "code",
   "metadata": {
    "id": "LH5PiGz04q5-"
   },
   "source": [
    "import random\n",
    "from dataclasses import dataclass\n",
    "from itertools import product\n",
    "from typing import Union, List, Tuple\n",
    "\n",
    "import numpy as np\n",
    "import pandas\n",
    "from catboost import CatBoostClassifier\n",
    "from scipy.stats import mode\n",
    "from sklearn.model_selection import train_test_split, KFold\n",
    "from tqdm.notebook import tqdm"
   ],
   "execution_count": 1,
   "outputs": []
  },
  {
   "cell_type": "code",
   "execution_count": 2,
   "outputs": [],
   "source": [
    "SEED = 7\n",
    "np.random.seed(SEED)\n",
    "random.seed(SEED)"
   ],
   "metadata": {
    "collapsed": false,
    "pycharm": {
     "name": "#%%\n"
    }
   }
  },
  {
   "cell_type": "code",
   "metadata": {
    "id": "bQUJHTjS4q5-"
   },
   "source": [
    "def gini(x):\n",
    "    _, counts = np.unique(x, return_counts=True)\n",
    "    proba = counts / len(x)\n",
    "    return np.sum(proba * (1 - proba))\n",
    "    \n",
    "def entropy(x):\n",
    "    _, counts = np.unique(x, return_counts=True)\n",
    "    proba = counts / len(x)\n",
    "    return -np.sum(proba * np.log2(proba))\n",
    "\n",
    "def gain(left_y, right_y, criterion):\n",
    "    y = np.concatenate((left_y, right_y))\n",
    "    return criterion(y) - (criterion(left_y) * len(left_y) + criterion(right_y) * len(right_y)) / len(y)"
   ],
   "execution_count": 3,
   "outputs": []
  },
  {
   "cell_type": "markdown",
   "metadata": {
    "id": "tfxycK0Q4q5_"
   },
   "source": [
    "### Задание 1 (2 балла)\n",
    "Random Forest состоит из деревьев решений. Каждое такое дерево строится на одной из выборок, полученных при помощи bagging. Элементы, которые не вошли в новую обучающую выборку, образуют out-of-bag выборку. Кроме того, в каждом узле дерева мы случайным образом выбираем набор из `max_features` и ищем признак для предиката разбиения только в этом наборе.\n",
    "\n",
    "Сегодня мы будем работать только с бинарными признаками, поэтому нет необходимости выбирать значение признака для разбиения.\n",
    "\n",
    "#### Методы\n",
    "`predict(X)` - возвращает предсказанные метки для элементов выборки `X`\n",
    "\n",
    "#### Параметры конструктора\n",
    "`X, y` - обучающая выборка и соответствующие ей метки классов. Из нее нужно получить выборку для построения дерева при помощи bagging. Out-of-bag выборку нужно запомнить, она понадобится потом.\n",
    "\n",
    "`criterion=\"gini\"` - задает критерий, который будет использоваться при построении дерева. Возможные значения: `\"gini\"`, `\"entropy\"`.\n",
    "\n",
    "`max_depth=None` - ограничение глубины дерева. Если `None` - глубина не ограничена\n",
    "\n",
    "`min_samples_leaf=1` - минимальное количество элементов в каждом листе дерева.\n",
    "\n",
    "`max_features=\"auto\"` - количество признаков, которые могут использоваться в узле. Если `\"auto\"` - равно `sqrt(X.shape[1])`"
   ]
  },
  {
   "cell_type": "code",
   "execution_count": 4,
   "outputs": [],
   "source": [
    "@dataclass\n",
    "class DecisionTreeLeaf:\n",
    "    classes: np.ndarray\n",
    "\n",
    "    def __post_init__(self):\n",
    "        self.max_class = mode(self.classes)[0][0]\n",
    "\n",
    "@dataclass\n",
    "class DecisionTreeInternalNode:\n",
    "    split_dim: int\n",
    "    left: Union['DecisionTreeInternalNode', DecisionTreeLeaf]\n",
    "    right: Union['DecisionTreeInternalNode', DecisionTreeLeaf]\n",
    "\n",
    "\n",
    "DecisionTreeNode = Union[DecisionTreeInternalNode, DecisionTreeLeaf]"
   ],
   "metadata": {
    "collapsed": false,
    "pycharm": {
     "name": "#%%\n"
    }
   }
  },
  {
   "cell_type": "code",
   "metadata": {
    "id": "8smLW2V_4q5_"
   },
   "source": [
    "class DecisionTree:\n",
    "    def __init__(self, X, y, criterion=\"gini\", max_depth=None, min_samples_leaf=1, max_features=\"auto\"):\n",
    "        if criterion == \"gini\":\n",
    "            self._criterion = gini\n",
    "        elif criterion == \"entropy\":\n",
    "            self._criterion = entropy\n",
    "        else:\n",
    "            raise ValueError(f\"Unknown criterion function: {criterion}\")\n",
    "\n",
    "        if isinstance(max_features, int):\n",
    "            self._max_features = max_features\n",
    "        elif max_features == \"auto\":\n",
    "            self._max_features = int(np.sqrt(X.shape[1]))\n",
    "        else:\n",
    "            raise ValueError(f\"Unknown value of max features parameter: {max_features}\")\n",
    "\n",
    "        self._max_depth = max_depth\n",
    "        self._min_samples_leaf = min_samples_leaf\n",
    "\n",
    "        self._bagged_idx = np.random.choice(X.shape[0], X.shape[0])\n",
    "        self._bagged_X, self._bagged_y = X[self._bagged_idx], y[self._bagged_idx]\n",
    "\n",
    "        mask = np.zeros(X.shape[0], dtype=np.bool)\n",
    "        mask[self._bagged_idx] = True\n",
    "        self._out_of_bag_idx = np.argwhere(~mask).reshape(-1)\n",
    "        self._out_of_bag_X, self._out_of_bag_y = X[self._out_of_bag_idx], y[self._out_of_bag_idx]\n",
    "\n",
    "        self._root = self._build_node(self._bagged_X, self._bagged_y, 0)\n",
    "\n",
    "    @property\n",
    "    def out_of_bag(self) -> Tuple[np.ndarray, np.ndarray]:\n",
    "        return self._out_of_bag_X, self._out_of_bag_y\n",
    "\n",
    "    def _build_node(self, points: np.ndarray, classes: np.ndarray, depth: int) -> DecisionTreeNode:\n",
    "        if self._max_depth is not None and depth >= self._max_depth:\n",
    "            return DecisionTreeLeaf(classes)\n",
    "\n",
    "        cur_features = np.random.choice(points.shape[1], self._max_features, replace=False)\n",
    "\n",
    "        n_points, n_features = points.shape\n",
    "        split_dim, split_gain = None, 0.0\n",
    "        for cur_dim in cur_features:\n",
    "            mask = points[:, cur_dim] == 1\n",
    "\n",
    "            left_size = mask.sum()\n",
    "            right_size = n_points - left_size\n",
    "            if left_size < self._min_samples_leaf or right_size < self._min_samples_leaf:\n",
    "                continue\n",
    "\n",
    "            cur_gain = gain(classes[mask], classes[~mask], self._criterion)\n",
    "            if cur_gain > split_gain:\n",
    "                split_dim, split_gain = cur_dim, cur_gain\n",
    "\n",
    "        if split_dim is None:\n",
    "            return DecisionTreeLeaf(classes)\n",
    "        mask = points[:, split_dim] == 1\n",
    "        left_child = self._build_node(points[mask], classes[mask], depth + 1)\n",
    "        right_child = self._build_node(points[~mask], classes[~mask], depth + 1)\n",
    "        return DecisionTreeInternalNode(split_dim, left_child, right_child)\n",
    "\n",
    "    def _predict(self, points: np.ndarray, node: DecisionTreeNode) -> np.ndarray:\n",
    "        if isinstance(node, DecisionTreeLeaf):\n",
    "            return np.full(points.shape[0], node.max_class)\n",
    "        mask = points[:, node.split_dim] == 1\n",
    "        result = np.empty(points.shape[0], dtype=np.object)\n",
    "        result[mask] = self._predict(points[mask], node.left)\n",
    "        result[~mask] = self._predict(points[~mask], node.right)\n",
    "        return result\n",
    "\n",
    "    def predict(self, points: np.ndarray) -> np.ndarray:\n",
    "        return self._predict(points, self._root)"
   ],
   "execution_count": 5,
   "outputs": []
  },
  {
   "cell_type": "markdown",
   "metadata": {
    "id": "9oijgwLt4q6A"
   },
   "source": [
    "### Задание 2 (2 балла)\n",
    "Теперь реализуем сам Random Forest. Идея очень простая: строим `n` деревьев, а затем берем модальное предсказание.\n",
    "\n",
    "#### Параметры конструктора\n",
    "`n_estimators` - количество используемых для предсказания деревьев.\n",
    "\n",
    "Остальное - параметры деревьев.\n",
    "\n",
    "#### Методы\n",
    "`fit(X, y)` - строит `n_estimators` деревьев по выборке `X`.\n",
    "\n",
    "`predict(X)` - для каждого элемента выборки `X` возвращает самый частый класс, который предсказывают для него деревья."
   ]
  },
  {
   "cell_type": "code",
   "metadata": {
    "id": "APIy88YW4q6A"
   },
   "source": [
    "class RandomForestClassifier:\n",
    "\n",
    "    _n_features: int = None\n",
    "\n",
    "    def __init__(self, criterion=\"gini\", max_depth=None, min_samples_leaf=1, max_features=\"auto\", n_estimators=10):\n",
    "        self._criterion = criterion\n",
    "        self._max_depth = max_depth\n",
    "        self._min_samples_leaf = min_samples_leaf\n",
    "        self._max_features = max_features\n",
    "        self._n_estimators = n_estimators\n",
    "        self._estimators = []\n",
    "\n",
    "    @property\n",
    "    def estimators(self) -> List[DecisionTree]:\n",
    "        return self._estimators\n",
    "\n",
    "    @property\n",
    "    def n_features(self) -> int:\n",
    "        if self._n_features is None:\n",
    "            raise RuntimeError(\"Fit random forest before accessing to number of features properties\")\n",
    "        return self._n_features\n",
    "\n",
    "    def fit(self, X, y):\n",
    "        self._n_features = X.shape[1]\n",
    "        self._estimators = [\n",
    "            DecisionTree(X, y, self._criterion, self._max_depth, self._min_samples_leaf, self._max_features)\n",
    "            for _ in range(self._n_estimators)\n",
    "        ]\n",
    "    \n",
    "    def predict(self, X):\n",
    "        predictions = np.stack([est.predict(X) for est in tqdm(self._estimators)], axis=0)\n",
    "        return mode(predictions, axis=0)[0][0]"
   ],
   "execution_count": 6,
   "outputs": []
  },
  {
   "cell_type": "markdown",
   "metadata": {
    "id": "i80pffMn4q6A"
   },
   "source": [
    "### Задание 3 (2 балла)\n",
    "Часто хочется понимать, насколько большую роль играет тот или иной признак для предсказания класса объекта. Есть различные способы посчитать его важность. Один из простых способов сделать это для Random Forest - посчитать out-of-bag ошибку предсказания `err_oob`, а затем перемешать значения признака `j` и посчитать ее (`err_oob_j`) еще раз. Оценкой важности признака `j` для одного дерева будет разность `err_oob_j - err_oob`, важность для всего леса считается как среднее значение важности по деревьям.\n",
    "\n",
    "Реализуйте функцию `feature_importance`, которая принимает на вход Random Forest и возвращает массив, в котором содержится важность для каждого признака."
   ]
  },
  {
   "cell_type": "code",
   "metadata": {
    "id": "rEmVG1Fl4q6B"
   },
   "source": [
    "def accuracy_score(y_true: np.ndarray, y_pred: np.ndarray) -> float:\n",
    "    y_true = y_true.reshape(-1)\n",
    "    y_pred = y_pred.reshape(-1)\n",
    "    return np.mean(y_true == y_pred)\n",
    "\n",
    "\n",
    "def feature_importance(rfc):\n",
    "    estimators = rfc.estimators\n",
    "    err_oob = np.zeros((len(estimators), 1))\n",
    "    feature_err_oob = np.zeros((len(estimators), rfc.n_features))\n",
    "    for i, est in tqdm(enumerate(rfc.estimators), total=len(estimators)):\n",
    "        X, y = est.out_of_bag\n",
    "        err_oob[i] = accuracy_score(y, est.predict(X))\n",
    "        for feature in range(rfc.n_features):\n",
    "            shuffled_x = X.copy()\n",
    "            shuffled_x[:, feature] = np.random.permutation(X[:, feature])\n",
    "            feature_err_oob[i, feature] = accuracy_score(y, est.predict(shuffled_x))\n",
    "    feature_importance = err_oob - feature_err_oob\n",
    "    return np.mean(feature_importance, axis=0)\n",
    "\n",
    "\n",
    "def most_important_features(importance, names, k=20):\n",
    "    # Выводит названия k самых важных признаков\n",
    "    indices = np.argsort(importance)[::-1][:k]\n",
    "    return np.array(names)[indices]"
   ],
   "execution_count": 7,
   "outputs": []
  },
  {
   "cell_type": "markdown",
   "metadata": {
    "id": "JooN_YKm4q6B"
   },
   "source": [
    "Наконец, пришло время протестировать наше дерево на простом синтетическом наборе данных. В результате точность должна быть примерно равна `1.0`, наибольшее значение важности должно быть у признака с индексом `4`, признаки с индексами `2` и `3`  должны быть одинаково важны, а остальные признаки - не важны совсем."
   ]
  },
  {
   "cell_type": "code",
   "metadata": {
    "id": "8gqYMp994q6B"
   },
   "source": [
    "def synthetic_dataset(size):\n",
    "    X = [(np.random.randint(0, 2), np.random.randint(0, 2), i % 6 == 3, \n",
    "          i % 6 == 0, i % 3 == 2, np.random.randint(0, 2)) for i in range(size)]\n",
    "    y = [i % 3 for i in range(size)]\n",
    "    return np.array(X), np.array(y)\n",
    "\n",
    "X, y = synthetic_dataset(1000)\n",
    "rfc = RandomForestClassifier(n_estimators=100)\n",
    "rfc.fit(X, y)\n",
    "print(\"Accuracy:\", np.mean(rfc.predict(X) == y))\n",
    "print(\"Importance:\", feature_importance(rfc))"
   ],
   "execution_count": 8,
   "outputs": [
    {
     "data": {
      "text/plain": "  0%|          | 0/100 [00:00<?, ?it/s]",
      "application/vnd.jupyter.widget-view+json": {
       "version_major": 2,
       "version_minor": 0,
       "model_id": "342080265f584a9382c30ac09fd4ab61"
      }
     },
     "metadata": {},
     "output_type": "display_data"
    },
    {
     "name": "stdout",
     "output_type": "stream",
     "text": [
      "Accuracy: 1.0\n"
     ]
    },
    {
     "data": {
      "text/plain": "  0%|          | 0/100 [00:00<?, ?it/s]",
      "application/vnd.jupyter.widget-view+json": {
       "version_major": 2,
       "version_minor": 0,
       "model_id": "7a79d97693154181ab0c8649fc6558e4"
      }
     },
     "metadata": {},
     "output_type": "display_data"
    },
    {
     "name": "stdout",
     "output_type": "stream",
     "text": [
      "Importance: [-1.11859299e-03  1.14130634e-04  1.68497018e-01  1.75751831e-01\n",
      "  3.15976483e-01  1.12490697e-03]\n"
     ]
    }
   ]
  },
  {
   "cell_type": "markdown",
   "metadata": {
    "id": "vRtGOs164q6C"
   },
   "source": [
    "### Задание 4 (1 балл)\n",
    "Теперь поработаем с реальными данными.\n",
    "\n",
    "Выборка состоит из публичных анонимизированных данных пользователей социальной сети Вконтакте. Первые два столбца отражают возрастную группу (`zoomer`, `doomer` и `boomer`) и пол (`female`, `male`). Все остальные столбцы являются бинарными признаками, каждый из них определяет, подписан ли пользователь на определенную группу/публичную страницу или нет.\\\n",
    "\\\n",
    "Необходимо обучить два классификатора, один из которых определяет возрастную группу, а второй - пол.\\\n",
    "\\\n",
    "Эксперименты с множеством используемых признаков и подбор гиперпараметров приветствуются. Лес должен строиться за какое-то разумное время."
   ]
  },
  {
   "cell_type": "code",
   "metadata": {
    "id": "HruobK-q4q6C"
   },
   "source": [
    "def read_dataset(path):\n",
    "    dataframe = pandas.read_csv(path, header=0)\n",
    "    dataset = dataframe.values.tolist()\n",
    "    random.shuffle(dataset)\n",
    "    y_age = [row[0] for row in dataset]\n",
    "    y_sex = [row[1] for row in dataset]\n",
    "    X = [row[2:] for row in dataset]\n",
    "    \n",
    "    return np.array(X), np.array(y_age), np.array(y_sex), list(dataframe.columns)[2:]"
   ],
   "execution_count": 9,
   "outputs": []
  },
  {
   "cell_type": "code",
   "metadata": {
    "id": "K0QXWr3b4q6C"
   },
   "source": [
    "X, y_age, y_sex, features = read_dataset(\"vk.csv\")\n",
    "X_train, X_test, y_age_train, y_age_test, y_sex_train, y_sex_test = train_test_split(X, y_age, y_sex, train_size=0.9)"
   ],
   "execution_count": 10,
   "outputs": []
  },
  {
   "cell_type": "markdown",
   "metadata": {
    "id": "I0y8J97m4q6C"
   },
   "source": [
    "#### Возраст"
   ]
  },
  {
   "cell_type": "code",
   "metadata": {
    "id": "MLJykJZH4q6C"
   },
   "source": [
    "rfc = RandomForestClassifier(n_estimators=10)\n",
    "\n",
    "rfc.fit(X_train, y_age_train)\n",
    "print(\"Accuracy:\", np.mean(rfc.predict(X_test) == y_age_test))\n",
    "print(\"Most important features:\")\n",
    "for i, name in enumerate(most_important_features(feature_importance(rfc), features, 20)):\n",
    "    print(str(i+1) + \".\", name)"
   ],
   "execution_count": 11,
   "outputs": [
    {
     "data": {
      "text/plain": "  0%|          | 0/10 [00:00<?, ?it/s]",
      "application/vnd.jupyter.widget-view+json": {
       "version_major": 2,
       "version_minor": 0,
       "model_id": "8fc01399703f401ea15ac8dba611202b"
      }
     },
     "metadata": {},
     "output_type": "display_data"
    },
    {
     "name": "stdout",
     "output_type": "stream",
     "text": [
      "Accuracy: 0.7061790668348046\n",
      "Most important features:\n"
     ]
    },
    {
     "data": {
      "text/plain": "  0%|          | 0/10 [00:00<?, ?it/s]",
      "application/vnd.jupyter.widget-view+json": {
       "version_major": 2,
       "version_minor": 0,
       "model_id": "13bafdc7a6f5454883788f7615075d4e"
      }
     },
     "metadata": {},
     "output_type": "display_data"
    },
    {
     "name": "stdout",
     "output_type": "stream",
     "text": [
      "1. ovsyanochan\n",
      "2. 4ch\n",
      "3. rhymes\n",
      "4. styd.pozor\n",
      "5. mudakoff\n",
      "6. dayvinchik\n",
      "7. rapnewrap\n",
      "8. iwantyou\n",
      "9. tumblr_vacuum\n",
      "10. bot_maxim\n",
      "11. pravdashowtop\n",
      "12. ultrapir\n",
      "13. leprum\n",
      "14. pixel_stickers\n",
      "15. reflexia_our_feelings\n",
      "16. ne1party\n",
      "17. pozor\n",
      "18. thesmolny\n",
      "19. memeboizz\n",
      "20. in.humour\n"
     ]
    }
   ]
  },
  {
   "cell_type": "markdown",
   "metadata": {
    "id": "cgNpaAKH4q6D"
   },
   "source": [
    "#### Пол"
   ]
  },
  {
   "cell_type": "code",
   "metadata": {
    "id": "X-zne5-R4q6D"
   },
   "source": [
    "rfc = RandomForestClassifier(n_estimators=10)\n",
    "rfc.fit(X_train, y_sex_train)\n",
    "print(\"Accuracy:\", np.mean(rfc.predict(X_test) == y_sex_test))\n",
    "print(\"Most important features:\")\n",
    "for i, name in enumerate(most_important_features(feature_importance(rfc), features, 20)):\n",
    "    print(str(i+1) + \".\", name)"
   ],
   "execution_count": 12,
   "outputs": [
    {
     "data": {
      "text/plain": "  0%|          | 0/10 [00:00<?, ?it/s]",
      "application/vnd.jupyter.widget-view+json": {
       "version_major": 2,
       "version_minor": 0,
       "model_id": "b4653c6b5d5a41df8ad8d1af49448354"
      }
     },
     "metadata": {},
     "output_type": "display_data"
    },
    {
     "name": "stdout",
     "output_type": "stream",
     "text": [
      "Accuracy: 0.8474148802017655\n",
      "Most important features:\n"
     ]
    },
    {
     "data": {
      "text/plain": "  0%|          | 0/10 [00:00<?, ?it/s]",
      "application/vnd.jupyter.widget-view+json": {
       "version_major": 2,
       "version_minor": 0,
       "model_id": "90b9e2d83d314088a0083105d1afe47d"
      }
     },
     "metadata": {},
     "output_type": "display_data"
    },
    {
     "name": "stdout",
     "output_type": "stream",
     "text": [
      "1. 40kg\n",
      "2. mudakoff\n",
      "3. 9o_6o_9o\n",
      "4. modnailru\n",
      "5. girlmeme\n",
      "6. bon\n",
      "7. be.women\n",
      "8. rapnewrap\n",
      "9. be.beauty\n",
      "10. i_d_t\n",
      "11. thesmolny\n",
      "12. femalemem\n",
      "13. zerofat\n",
      "14. igm\n",
      "15. beauty\n",
      "16. soverwenstvo.decora\n",
      "17. cook_good\n",
      "18. woman.blog\n",
      "19. academyofman\n",
      "20. reflexia_our_feelings\n"
     ]
    }
   ]
  },
  {
   "cell_type": "markdown",
   "metadata": {
    "id": "pxeTQylQ4q6D"
   },
   "source": [
    "### CatBoost\n",
    "В качестве аьтернативы попробуем CatBoost. \n",
    "\n",
    "Устаниовить его можно просто с помощью `pip install catboost`. Туториалы можно найти, например, [здесь](https://catboost.ai/docs/concepts/python-usages-examples.html#multiclassification) и [здесь](https://github.com/catboost/tutorials/blob/master/python_tutorial.ipynb). Главное - не забудьте использовать `loss_function='MultiClass'`.\\\n",
    "\\\n",
    "Сначала протестируйте CatBoost на синтетических данных. Выведите точность и важность признаков."
   ]
  },
  {
   "cell_type": "code",
   "metadata": {
    "id": "DOqVkEnd4q6D"
   },
   "source": [
    "X, y = synthetic_dataset(1000)\n",
    "\n",
    "cb_model = CatBoostClassifier(loss_function=\"MultiClass\", verbose=False, random_state=SEED)\n",
    "cb_model.fit(X, y)\n",
    "y_pred = cb_model.predict(X)\n",
    "\n",
    "print(\"Accuracy:\", accuracy_score(y_pred, y))\n",
    "print(\"Importance:\", cb_model.feature_importances_)"
   ],
   "execution_count": 13,
   "outputs": [
    {
     "name": "stdout",
     "output_type": "stream",
     "text": [
      "Accuracy: 1.0\n",
      "Importance: [1.02868859e-02 5.15331135e-03 2.78522175e+01 2.79007226e+01\n",
      " 4.42293440e+01 2.27569188e-03]\n"
     ]
    }
   ]
  },
  {
   "cell_type": "markdown",
   "metadata": {
    "id": "tcLRsSNG4q6E"
   },
   "source": [
    "### Задание 5 (3 балла)\n",
    "Попробуем применить один из используемых на практике алгоритмов. В этом нам поможет CatBoost. Также, как и реализованный ними RandomForest, применим его для определения пола и возраста пользователей сети Вконтакте, выведите названия наиболее важных признаков так же, как в задании 3.\\\n",
    "\\\n",
    "Эксперименты с множеством используемых признаков и подбор гиперпараметров приветствуются."
   ]
  },
  {
   "cell_type": "code",
   "metadata": {
    "id": "hJGrQcO-4q6E"
   },
   "source": [
    "X, y_age, y_sex, features = read_dataset(\"vk.csv\")\n",
    "X_train, X_test, y_age_train, y_age_test, y_sex_train, y_sex_test = train_test_split(X, y_age, y_sex, train_size=0.9)\n",
    "X_train, X_eval, y_age_train, y_age_eval, y_sex_train, y_sex_eval = train_test_split(X_train, y_age_train, y_sex_train, train_size=0.8)"
   ],
   "execution_count": 14,
   "outputs": []
  },
  {
   "cell_type": "code",
   "execution_count": 15,
   "outputs": [],
   "source": [
    "max_depth = range(1, 10, 3)\n",
    "min_samples_leaf = range(1, 10, 3)\n",
    "learning_rate = np.linspace(0.001, 1.0, 5)\n",
    "\n",
    "def get_best_params(y_train, y_eval):\n",
    "    best_score, best_params = None, None\n",
    "    for lr, md, msl in tqdm(list(product(learning_rate, max_depth, min_samples_leaf))):\n",
    "\n",
    "        classifier = CatBoostClassifier(\n",
    "            loss_function=\"MultiClass\", verbose=False, random_state=SEED, max_depth=md, min_data_in_leaf=msl, learning_rate=lr\n",
    "        )\n",
    "        classifier.fit(X_train, y_train)\n",
    "        y_pred = classifier.predict(X_eval)\n",
    "        score = accuracy_score(y_eval, y_pred)\n",
    "\n",
    "        if best_score is None or score > best_score:\n",
    "            best_score = score\n",
    "            best_params = (lr, md, msl)\n",
    "    return best_params, best_score"
   ],
   "metadata": {
    "collapsed": false,
    "pycharm": {
     "name": "#%%\n"
    }
   }
  },
  {
   "cell_type": "markdown",
   "metadata": {
    "id": "XA5f_8eC4q6E"
   },
   "source": [
    "#### Возраст"
   ]
  },
  {
   "cell_type": "code",
   "execution_count": 16,
   "outputs": [
    {
     "data": {
      "text/plain": "  0%|          | 0/45 [00:00<?, ?it/s]",
      "application/vnd.jupyter.widget-view+json": {
       "version_major": 2,
       "version_minor": 0,
       "model_id": "c8f5f25238ca4f639f109256076bf357"
      }
     },
     "metadata": {},
     "output_type": "display_data"
    },
    {
     "data": {
      "text/plain": "((0.25075, 7, 1), 0.7505255781359496)"
     },
     "execution_count": 16,
     "metadata": {},
     "output_type": "execute_result"
    }
   ],
   "source": [
    "best_params, best_score = get_best_params(y_age_train, y_age_eval)\n",
    "best_params, best_score"
   ],
   "metadata": {
    "collapsed": false,
    "pycharm": {
     "name": "#%%\n"
    }
   }
  },
  {
   "cell_type": "code",
   "metadata": {
    "id": "qSeUpxPj4q6E"
   },
   "source": [
    "cb_model = CatBoostClassifier(\n",
    "    loss_function=\"MultiClass\",\n",
    "    verbose=False,\n",
    "    random_state=SEED,\n",
    "    learning_rate=best_params[0],\n",
    "    max_depth=best_params[1],\n",
    "    min_data_in_leaf=best_params[2],\n",
    ")\n",
    "cb_model.fit(X_train, y_age_train)\n",
    "y_pred = cb_model.predict(X_test)\n",
    "\n",
    "print(\"Accuracy:\", accuracy_score(y_age_test, y_pred))\n",
    "print(\"Most important features:\")\n",
    "for i, name in enumerate(most_important_features(cb_model.feature_importances_, features, 10)):\n",
    "    print(str(i+1) + \".\", name)"
   ],
   "execution_count": 17,
   "outputs": [
    {
     "name": "stdout",
     "output_type": "stream",
     "text": [
      "Accuracy: 0.755359394703657\n",
      "Most important features:\n",
      "1. mudakoff\n",
      "2. 4ch\n",
      "3. ovsyanochan\n",
      "4. kino_mania\n",
      "5. rhymes\n",
      "6. dayvinchik\n",
      "7. exclusive_muzic\n",
      "8. rapnewrap\n",
      "9. styd.pozor\n",
      "10. kinomania\n"
     ]
    }
   ]
  },
  {
   "cell_type": "markdown",
   "metadata": {
    "id": "KfYSptm74q6E"
   },
   "source": [
    "#### Пол"
   ]
  },
  {
   "cell_type": "code",
   "execution_count": 18,
   "outputs": [
    {
     "data": {
      "text/plain": "  0%|          | 0/45 [00:00<?, ?it/s]",
      "application/vnd.jupyter.widget-view+json": {
       "version_major": 2,
       "version_minor": 0,
       "model_id": "a895b35aaf7241768ba93421d0dab85e"
      }
     },
     "metadata": {},
     "output_type": "display_data"
    },
    {
     "data": {
      "text/plain": "((0.5005, 4, 1), 0.8710581639803784)"
     },
     "execution_count": 18,
     "metadata": {},
     "output_type": "execute_result"
    }
   ],
   "source": [
    "best_params, best_score = get_best_params(y_sex_train, y_sex_eval)\n",
    "best_params, best_score"
   ],
   "metadata": {
    "collapsed": false,
    "pycharm": {
     "name": "#%%\n"
    }
   }
  },
  {
   "cell_type": "code",
   "metadata": {
    "id": "4rKa-f6F4q6E",
    "pycharm": {
     "name": "#%%\n"
    }
   },
   "source": [
    "cb_model = CatBoostClassifier(\n",
    "    loss_function=\"MultiClass\",\n",
    "    verbose=False,\n",
    "    random_state=SEED,\n",
    "    learning_rate=best_params[0],\n",
    "    max_depth=best_params[1],\n",
    "    min_data_in_leaf=best_params[2],\n",
    ")\n",
    "cb_model.fit(X_train, y_sex_train)\n",
    "y_pred = cb_model.predict(X_test)\n",
    "\n",
    "print(\"Accuracy:\", accuracy_score(y_sex_test, y_pred))\n",
    "print(\"Most important features:\")\n",
    "for i, name in enumerate(most_important_features(cb_model.feature_importances_, features, 10)):\n",
    "    print(str(i+1) + \".\", name)"
   ],
   "execution_count": 19,
   "outputs": [
    {
     "name": "stdout",
     "output_type": "stream",
     "text": [
      "Accuracy: 0.8726355611601513\n",
      "Most important features:\n",
      "1. 40kg\n",
      "2. mudakoff\n",
      "3. modnailru\n",
      "4. girlmeme\n",
      "5. 9o_6o_9o\n",
      "6. i_d_t\n",
      "7. 4ch\n",
      "8. rapnewrap\n",
      "9. fuck_humor\n",
      "10. team\n"
     ]
    }
   ]
  }
 ]
}